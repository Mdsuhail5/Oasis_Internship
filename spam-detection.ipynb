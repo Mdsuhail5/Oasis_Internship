{
 "cells": [
  {
   "cell_type": "markdown",
   "id": "2a142235",
   "metadata": {
    "papermill": {
     "duration": 0.015286,
     "end_time": "2024-01-26T09:51:46.843962",
     "exception": false,
     "start_time": "2024-01-26T09:51:46.828676",
     "status": "completed"
    },
    "tags": []
   },
   "source": [
    "# EMAIL SPAM DETECTION WITH MACHINE LEARNING\n",
    "\n",
    "**Problem Statement:** \n",
    "               We’ve all been the recipient of spam emails before. Spam mail, or junk mail, is a type of email that is sent to a massive number of users at one time, frequently containing cryptic\n",
    "messages, scams, or most dangerously, phishing content. Use Python to build an email spam detector. Then, use machine learning to train the spam detector to recognize and classify emails into spam and non-spam. \n",
    "\n",
    "**Objective:** To classify an email is spam or not by build a machine learning model.\n",
    "\n",
    "**Download the dataset from here:**\n",
    "          https://www.kaggle.com/datasets/uciml/sms-spam-collection-dataset"
   ]
  },
  {
   "cell_type": "code",
   "execution_count": 1,
   "id": "400aecc5",
   "metadata": {
    "execution": {
     "iopub.execute_input": "2024-01-26T09:51:46.873305Z",
     "iopub.status.busy": "2024-01-26T09:51:46.872760Z",
     "iopub.status.idle": "2024-01-26T09:51:46.896255Z",
     "shell.execute_reply": "2024-01-26T09:51:46.894681Z"
    },
    "papermill": {
     "duration": 0.042526,
     "end_time": "2024-01-26T09:51:46.900429",
     "exception": false,
     "start_time": "2024-01-26T09:51:46.857903",
     "status": "completed"
    },
    "tags": []
   },
   "outputs": [
    {
     "name": "stdout",
     "output_type": "stream",
     "text": [
      "/kaggle/input/sms-spam-collection-dataset/spam.csv\n"
     ]
    }
   ],
   "source": [
    "import os\n",
    "for dirname, _, filenames in os.walk('/kaggle/input'):\n",
    "    for filename in filenames:\n",
    "        print(os.path.join(dirname, filename))"
   ]
  },
  {
   "cell_type": "markdown",
   "id": "09444cb9",
   "metadata": {
    "papermill": {
     "duration": 0.014059,
     "end_time": "2024-01-26T09:51:46.928691",
     "exception": false,
     "start_time": "2024-01-26T09:51:46.914632",
     "status": "completed"
    },
    "tags": []
   },
   "source": [
    "# 1.Importing Libraries"
   ]
  },
  {
   "cell_type": "code",
   "execution_count": 2,
   "id": "ec7a081d",
   "metadata": {
    "execution": {
     "iopub.execute_input": "2024-01-26T09:51:46.958752Z",
     "iopub.status.busy": "2024-01-26T09:51:46.957522Z",
     "iopub.status.idle": "2024-01-26T09:51:49.645722Z",
     "shell.execute_reply": "2024-01-26T09:51:49.644595Z"
    },
    "papermill": {
     "duration": 2.706025,
     "end_time": "2024-01-26T09:51:49.648423",
     "exception": false,
     "start_time": "2024-01-26T09:51:46.942398",
     "status": "completed"
    },
    "tags": []
   },
   "outputs": [],
   "source": [
    "\n",
    "\n",
    "import pandas as pd\n",
    "import numpy as np\n",
    "from sklearn.model_selection import train_test_split\n",
    "from sklearn.feature_extraction.text import TfidfVectorizer\n",
    "from sklearn.linear_model import LogisticRegression\n",
    "from sklearn.metrics import accuracy_score, confusion_matrix, roc_curve, roc_auc_score\n",
    "from sklearn.metrics import confusion_matrix,classification_report,accuracy_score\n",
    "import nltk\n",
    "from nltk.corpus import stopwords\n",
    "from collections import Counter\n",
    "\n",
    "\n",
    "#libraries for data visualization\n",
    "import matplotlib.pyplot as plt\n",
    "import seaborn as sns\n",
    "%matplotlib inline"
   ]
  },
  {
   "cell_type": "markdown",
   "id": "0728ce34",
   "metadata": {
    "papermill": {
     "duration": 0.014287,
     "end_time": "2024-01-26T09:51:49.676842",
     "exception": false,
     "start_time": "2024-01-26T09:51:49.662555",
     "status": "completed"
    },
    "tags": []
   },
   "source": [
    "# 2. Loading the Data"
   ]
  },
  {
   "cell_type": "code",
   "execution_count": 3,
   "id": "cfc80954",
   "metadata": {
    "execution": {
     "iopub.execute_input": "2024-01-26T09:51:49.706346Z",
     "iopub.status.busy": "2024-01-26T09:51:49.705833Z",
     "iopub.status.idle": "2024-01-26T09:51:49.749779Z",
     "shell.execute_reply": "2024-01-26T09:51:49.748739Z"
    },
    "papermill": {
     "duration": 0.061837,
     "end_time": "2024-01-26T09:51:49.752445",
     "exception": false,
     "start_time": "2024-01-26T09:51:49.690608",
     "status": "completed"
    },
    "tags": []
   },
   "outputs": [],
   "source": [
    "df= pd.read_csv(\"/kaggle/input/sms-spam-collection-dataset/spam.csv\",encoding='ISO-8859-1')"
   ]
  },
  {
   "cell_type": "markdown",
   "id": "94218e2a",
   "metadata": {
    "papermill": {
     "duration": 0.013597,
     "end_time": "2024-01-26T09:51:49.779891",
     "exception": false,
     "start_time": "2024-01-26T09:51:49.766294",
     "status": "completed"
    },
    "tags": []
   },
   "source": [
    "# 3. Exploratory Data Analysis"
   ]
  },
  {
   "cell_type": "code",
   "execution_count": 4,
   "id": "1a26d83a",
   "metadata": {
    "execution": {
     "iopub.execute_input": "2024-01-26T09:51:49.808995Z",
     "iopub.status.busy": "2024-01-26T09:51:49.808565Z",
     "iopub.status.idle": "2024-01-26T09:51:49.831840Z",
     "shell.execute_reply": "2024-01-26T09:51:49.830508Z"
    },
    "papermill": {
     "duration": 0.040802,
     "end_time": "2024-01-26T09:51:49.834411",
     "exception": false,
     "start_time": "2024-01-26T09:51:49.793609",
     "status": "completed"
    },
    "tags": []
   },
   "outputs": [
    {
     "data": {
      "text/html": [
       "<div>\n",
       "<style scoped>\n",
       "    .dataframe tbody tr th:only-of-type {\n",
       "        vertical-align: middle;\n",
       "    }\n",
       "\n",
       "    .dataframe tbody tr th {\n",
       "        vertical-align: top;\n",
       "    }\n",
       "\n",
       "    .dataframe thead th {\n",
       "        text-align: right;\n",
       "    }\n",
       "</style>\n",
       "<table border=\"1\" class=\"dataframe\">\n",
       "  <thead>\n",
       "    <tr style=\"text-align: right;\">\n",
       "      <th></th>\n",
       "      <th>v1</th>\n",
       "      <th>v2</th>\n",
       "      <th>Unnamed: 2</th>\n",
       "      <th>Unnamed: 3</th>\n",
       "      <th>Unnamed: 4</th>\n",
       "    </tr>\n",
       "  </thead>\n",
       "  <tbody>\n",
       "    <tr>\n",
       "      <th>0</th>\n",
       "      <td>ham</td>\n",
       "      <td>Go until jurong point, crazy.. Available only ...</td>\n",
       "      <td>NaN</td>\n",
       "      <td>NaN</td>\n",
       "      <td>NaN</td>\n",
       "    </tr>\n",
       "    <tr>\n",
       "      <th>1</th>\n",
       "      <td>ham</td>\n",
       "      <td>Ok lar... Joking wif u oni...</td>\n",
       "      <td>NaN</td>\n",
       "      <td>NaN</td>\n",
       "      <td>NaN</td>\n",
       "    </tr>\n",
       "    <tr>\n",
       "      <th>2</th>\n",
       "      <td>spam</td>\n",
       "      <td>Free entry in 2 a wkly comp to win FA Cup fina...</td>\n",
       "      <td>NaN</td>\n",
       "      <td>NaN</td>\n",
       "      <td>NaN</td>\n",
       "    </tr>\n",
       "    <tr>\n",
       "      <th>3</th>\n",
       "      <td>ham</td>\n",
       "      <td>U dun say so early hor... U c already then say...</td>\n",
       "      <td>NaN</td>\n",
       "      <td>NaN</td>\n",
       "      <td>NaN</td>\n",
       "    </tr>\n",
       "    <tr>\n",
       "      <th>4</th>\n",
       "      <td>ham</td>\n",
       "      <td>Nah I don't think he goes to usf, he lives aro...</td>\n",
       "      <td>NaN</td>\n",
       "      <td>NaN</td>\n",
       "      <td>NaN</td>\n",
       "    </tr>\n",
       "  </tbody>\n",
       "</table>\n",
       "</div>"
      ],
      "text/plain": [
       "     v1                                                 v2 Unnamed: 2  \\\n",
       "0   ham  Go until jurong point, crazy.. Available only ...        NaN   \n",
       "1   ham                      Ok lar... Joking wif u oni...        NaN   \n",
       "2  spam  Free entry in 2 a wkly comp to win FA Cup fina...        NaN   \n",
       "3   ham  U dun say so early hor... U c already then say...        NaN   \n",
       "4   ham  Nah I don't think he goes to usf, he lives aro...        NaN   \n",
       "\n",
       "  Unnamed: 3 Unnamed: 4  \n",
       "0        NaN        NaN  \n",
       "1        NaN        NaN  \n",
       "2        NaN        NaN  \n",
       "3        NaN        NaN  \n",
       "4        NaN        NaN  "
      ]
     },
     "execution_count": 4,
     "metadata": {},
     "output_type": "execute_result"
    }
   ],
   "source": [
    "df.head()"
   ]
  },
  {
   "cell_type": "code",
   "execution_count": 5,
   "id": "042f8e92",
   "metadata": {
    "execution": {
     "iopub.execute_input": "2024-01-26T09:51:49.866086Z",
     "iopub.status.busy": "2024-01-26T09:51:49.865684Z",
     "iopub.status.idle": "2024-01-26T09:51:49.877699Z",
     "shell.execute_reply": "2024-01-26T09:51:49.876816Z"
    },
    "papermill": {
     "duration": 0.031747,
     "end_time": "2024-01-26T09:51:49.880447",
     "exception": false,
     "start_time": "2024-01-26T09:51:49.848700",
     "status": "completed"
    },
    "tags": []
   },
   "outputs": [
    {
     "data": {
      "text/html": [
       "<div>\n",
       "<style scoped>\n",
       "    .dataframe tbody tr th:only-of-type {\n",
       "        vertical-align: middle;\n",
       "    }\n",
       "\n",
       "    .dataframe tbody tr th {\n",
       "        vertical-align: top;\n",
       "    }\n",
       "\n",
       "    .dataframe thead th {\n",
       "        text-align: right;\n",
       "    }\n",
       "</style>\n",
       "<table border=\"1\" class=\"dataframe\">\n",
       "  <thead>\n",
       "    <tr style=\"text-align: right;\">\n",
       "      <th></th>\n",
       "      <th>v1</th>\n",
       "      <th>v2</th>\n",
       "      <th>Unnamed: 2</th>\n",
       "      <th>Unnamed: 3</th>\n",
       "      <th>Unnamed: 4</th>\n",
       "    </tr>\n",
       "  </thead>\n",
       "  <tbody>\n",
       "    <tr>\n",
       "      <th>5567</th>\n",
       "      <td>spam</td>\n",
       "      <td>This is the 2nd time we have tried 2 contact u...</td>\n",
       "      <td>NaN</td>\n",
       "      <td>NaN</td>\n",
       "      <td>NaN</td>\n",
       "    </tr>\n",
       "    <tr>\n",
       "      <th>5568</th>\n",
       "      <td>ham</td>\n",
       "      <td>Will Ì_ b going to esplanade fr home?</td>\n",
       "      <td>NaN</td>\n",
       "      <td>NaN</td>\n",
       "      <td>NaN</td>\n",
       "    </tr>\n",
       "    <tr>\n",
       "      <th>5569</th>\n",
       "      <td>ham</td>\n",
       "      <td>Pity, * was in mood for that. So...any other s...</td>\n",
       "      <td>NaN</td>\n",
       "      <td>NaN</td>\n",
       "      <td>NaN</td>\n",
       "    </tr>\n",
       "    <tr>\n",
       "      <th>5570</th>\n",
       "      <td>ham</td>\n",
       "      <td>The guy did some bitching but I acted like i'd...</td>\n",
       "      <td>NaN</td>\n",
       "      <td>NaN</td>\n",
       "      <td>NaN</td>\n",
       "    </tr>\n",
       "    <tr>\n",
       "      <th>5571</th>\n",
       "      <td>ham</td>\n",
       "      <td>Rofl. Its true to its name</td>\n",
       "      <td>NaN</td>\n",
       "      <td>NaN</td>\n",
       "      <td>NaN</td>\n",
       "    </tr>\n",
       "  </tbody>\n",
       "</table>\n",
       "</div>"
      ],
      "text/plain": [
       "        v1                                                 v2 Unnamed: 2  \\\n",
       "5567  spam  This is the 2nd time we have tried 2 contact u...        NaN   \n",
       "5568   ham              Will Ì_ b going to esplanade fr home?        NaN   \n",
       "5569   ham  Pity, * was in mood for that. So...any other s...        NaN   \n",
       "5570   ham  The guy did some bitching but I acted like i'd...        NaN   \n",
       "5571   ham                         Rofl. Its true to its name        NaN   \n",
       "\n",
       "     Unnamed: 3 Unnamed: 4  \n",
       "5567        NaN        NaN  \n",
       "5568        NaN        NaN  \n",
       "5569        NaN        NaN  \n",
       "5570        NaN        NaN  \n",
       "5571        NaN        NaN  "
      ]
     },
     "execution_count": 5,
     "metadata": {},
     "output_type": "execute_result"
    }
   ],
   "source": [
    "df.tail()"
   ]
  },
  {
   "cell_type": "markdown",
   "id": "315b93e3",
   "metadata": {
    "papermill": {
     "duration": 0.014018,
     "end_time": "2024-01-26T09:51:49.908912",
     "exception": false,
     "start_time": "2024-01-26T09:51:49.894894",
     "status": "completed"
    },
    "tags": []
   },
   "source": [
    "The dataset contains 5,572 entries and 5 columns. Here's a brief overview of the columns:\n",
    "\n",
    "v1: Indicates whether the message is spam or ham (non-spam).\n",
    "v2: Contains the text of the message.\n",
    "Unnamed: 2, Unnamed: 3, Unnamed: 4: These columns have a significant number of missing values and might not be relevant for our analysis.\n",
    "The v1 and v2 columns are crucial for our spam detection system, with v1 serving as the target variable and v2 as the feature from which we'll extract information for classification."
   ]
  },
  {
   "cell_type": "code",
   "execution_count": 6,
   "id": "4b09e77d",
   "metadata": {
    "execution": {
     "iopub.execute_input": "2024-01-26T09:51:49.939469Z",
     "iopub.status.busy": "2024-01-26T09:51:49.939068Z",
     "iopub.status.idle": "2024-01-26T09:51:49.946030Z",
     "shell.execute_reply": "2024-01-26T09:51:49.945078Z"
    },
    "papermill": {
     "duration": 0.024912,
     "end_time": "2024-01-26T09:51:49.948177",
     "exception": false,
     "start_time": "2024-01-26T09:51:49.923265",
     "status": "completed"
    },
    "tags": []
   },
   "outputs": [
    {
     "data": {
      "text/plain": [
       "Index(['v1', 'v2', 'Unnamed: 2', 'Unnamed: 3', 'Unnamed: 4'], dtype='object')"
      ]
     },
     "execution_count": 6,
     "metadata": {},
     "output_type": "execute_result"
    }
   ],
   "source": [
    "#Check column list present in df\n",
    "df.columns"
   ]
  },
  {
   "cell_type": "code",
   "execution_count": 7,
   "id": "9ac4a526",
   "metadata": {
    "execution": {
     "iopub.execute_input": "2024-01-26T09:51:49.979108Z",
     "iopub.status.busy": "2024-01-26T09:51:49.978382Z",
     "iopub.status.idle": "2024-01-26T09:51:50.008114Z",
     "shell.execute_reply": "2024-01-26T09:51:50.006867Z"
    },
    "papermill": {
     "duration": 0.047763,
     "end_time": "2024-01-26T09:51:50.010429",
     "exception": false,
     "start_time": "2024-01-26T09:51:49.962666",
     "status": "completed"
    },
    "tags": []
   },
   "outputs": [
    {
     "name": "stdout",
     "output_type": "stream",
     "text": [
      "<class 'pandas.core.frame.DataFrame'>\n",
      "RangeIndex: 5572 entries, 0 to 5571\n",
      "Data columns (total 5 columns):\n",
      " #   Column      Non-Null Count  Dtype \n",
      "---  ------      --------------  ----- \n",
      " 0   v1          5572 non-null   object\n",
      " 1   v2          5572 non-null   object\n",
      " 2   Unnamed: 2  50 non-null     object\n",
      " 3   Unnamed: 3  12 non-null     object\n",
      " 4   Unnamed: 4  6 non-null      object\n",
      "dtypes: object(5)\n",
      "memory usage: 217.8+ KB\n"
     ]
    }
   ],
   "source": [
    "#check descriptive statistics\n",
    "df.info()"
   ]
  },
  {
   "cell_type": "code",
   "execution_count": 8,
   "id": "8f851c62",
   "metadata": {
    "execution": {
     "iopub.execute_input": "2024-01-26T09:51:50.041421Z",
     "iopub.status.busy": "2024-01-26T09:51:50.041040Z",
     "iopub.status.idle": "2024-01-26T09:51:50.050946Z",
     "shell.execute_reply": "2024-01-26T09:51:50.050145Z"
    },
    "papermill": {
     "duration": 0.027948,
     "end_time": "2024-01-26T09:51:50.053162",
     "exception": false,
     "start_time": "2024-01-26T09:51:50.025214",
     "status": "completed"
    },
    "tags": []
   },
   "outputs": [
    {
     "data": {
      "text/plain": [
       "v1               0\n",
       "v2               0\n",
       "Unnamed: 2    5522\n",
       "Unnamed: 3    5560\n",
       "Unnamed: 4    5566\n",
       "dtype: int64"
      ]
     },
     "execution_count": 8,
     "metadata": {},
     "output_type": "execute_result"
    }
   ],
   "source": [
    "#Lets see null value count in df\n",
    "df.isnull().sum()"
   ]
  },
  {
   "cell_type": "code",
   "execution_count": 9,
   "id": "5ef2b9d9",
   "metadata": {
    "execution": {
     "iopub.execute_input": "2024-01-26T09:51:50.146994Z",
     "iopub.status.busy": "2024-01-26T09:51:50.146545Z",
     "iopub.status.idle": "2024-01-26T09:51:50.158153Z",
     "shell.execute_reply": "2024-01-26T09:51:50.157014Z"
    },
    "papermill": {
     "duration": 0.092559,
     "end_time": "2024-01-26T09:51:50.160598",
     "exception": false,
     "start_time": "2024-01-26T09:51:50.068039",
     "status": "completed"
    },
    "tags": []
   },
   "outputs": [
    {
     "data": {
      "text/plain": [
       "v1             0.000000\n",
       "v2             0.000000\n",
       "Unnamed: 2    99.102656\n",
       "Unnamed: 3    99.784637\n",
       "Unnamed: 4    99.892319\n",
       "dtype: float64"
      ]
     },
     "execution_count": 9,
     "metadata": {},
     "output_type": "execute_result"
    }
   ],
   "source": [
    "df.isnull().mean()*100  #check the percentage of null value"
   ]
  },
  {
   "cell_type": "markdown",
   "id": "41a72ab1",
   "metadata": {
    "papermill": {
     "duration": 0.014794,
     "end_time": "2024-01-26T09:51:50.190565",
     "exception": false,
     "start_time": "2024-01-26T09:51:50.175771",
     "status": "completed"
    },
    "tags": []
   },
   "source": [
    "As we can see there are huge number of missing entries in Unnamed:2,Unnamed:3,Unnamed:4 col i.e more than 99%.So we should have to remove these column."
   ]
  },
  {
   "cell_type": "code",
   "execution_count": 10,
   "id": "b500d863",
   "metadata": {
    "execution": {
     "iopub.execute_input": "2024-01-26T09:51:50.222933Z",
     "iopub.status.busy": "2024-01-26T09:51:50.222563Z",
     "iopub.status.idle": "2024-01-26T09:51:50.239718Z",
     "shell.execute_reply": "2024-01-26T09:51:50.238563Z"
    },
    "papermill": {
     "duration": 0.036059,
     "end_time": "2024-01-26T09:51:50.242000",
     "exception": false,
     "start_time": "2024-01-26T09:51:50.205941",
     "status": "completed"
    },
    "tags": []
   },
   "outputs": [
    {
     "data": {
      "text/html": [
       "<div>\n",
       "<style scoped>\n",
       "    .dataframe tbody tr th:only-of-type {\n",
       "        vertical-align: middle;\n",
       "    }\n",
       "\n",
       "    .dataframe tbody tr th {\n",
       "        vertical-align: top;\n",
       "    }\n",
       "\n",
       "    .dataframe thead th {\n",
       "        text-align: right;\n",
       "    }\n",
       "</style>\n",
       "<table border=\"1\" class=\"dataframe\">\n",
       "  <thead>\n",
       "    <tr style=\"text-align: right;\">\n",
       "      <th></th>\n",
       "      <th>v1</th>\n",
       "      <th>v2</th>\n",
       "    </tr>\n",
       "  </thead>\n",
       "  <tbody>\n",
       "    <tr>\n",
       "      <th>0</th>\n",
       "      <td>ham</td>\n",
       "      <td>Go until jurong point, crazy.. Available only ...</td>\n",
       "    </tr>\n",
       "    <tr>\n",
       "      <th>1</th>\n",
       "      <td>ham</td>\n",
       "      <td>Ok lar... Joking wif u oni...</td>\n",
       "    </tr>\n",
       "    <tr>\n",
       "      <th>2</th>\n",
       "      <td>spam</td>\n",
       "      <td>Free entry in 2 a wkly comp to win FA Cup fina...</td>\n",
       "    </tr>\n",
       "    <tr>\n",
       "      <th>3</th>\n",
       "      <td>ham</td>\n",
       "      <td>U dun say so early hor... U c already then say...</td>\n",
       "    </tr>\n",
       "    <tr>\n",
       "      <th>4</th>\n",
       "      <td>ham</td>\n",
       "      <td>Nah I don't think he goes to usf, he lives aro...</td>\n",
       "    </tr>\n",
       "    <tr>\n",
       "      <th>...</th>\n",
       "      <td>...</td>\n",
       "      <td>...</td>\n",
       "    </tr>\n",
       "    <tr>\n",
       "      <th>5567</th>\n",
       "      <td>spam</td>\n",
       "      <td>This is the 2nd time we have tried 2 contact u...</td>\n",
       "    </tr>\n",
       "    <tr>\n",
       "      <th>5568</th>\n",
       "      <td>ham</td>\n",
       "      <td>Will Ì_ b going to esplanade fr home?</td>\n",
       "    </tr>\n",
       "    <tr>\n",
       "      <th>5569</th>\n",
       "      <td>ham</td>\n",
       "      <td>Pity, * was in mood for that. So...any other s...</td>\n",
       "    </tr>\n",
       "    <tr>\n",
       "      <th>5570</th>\n",
       "      <td>ham</td>\n",
       "      <td>The guy did some bitching but I acted like i'd...</td>\n",
       "    </tr>\n",
       "    <tr>\n",
       "      <th>5571</th>\n",
       "      <td>ham</td>\n",
       "      <td>Rofl. Its true to its name</td>\n",
       "    </tr>\n",
       "  </tbody>\n",
       "</table>\n",
       "<p>5572 rows × 2 columns</p>\n",
       "</div>"
      ],
      "text/plain": [
       "        v1                                                 v2\n",
       "0      ham  Go until jurong point, crazy.. Available only ...\n",
       "1      ham                      Ok lar... Joking wif u oni...\n",
       "2     spam  Free entry in 2 a wkly comp to win FA Cup fina...\n",
       "3      ham  U dun say so early hor... U c already then say...\n",
       "4      ham  Nah I don't think he goes to usf, he lives aro...\n",
       "...    ...                                                ...\n",
       "5567  spam  This is the 2nd time we have tried 2 contact u...\n",
       "5568   ham              Will Ì_ b going to esplanade fr home?\n",
       "5569   ham  Pity, * was in mood for that. So...any other s...\n",
       "5570   ham  The guy did some bitching but I acted like i'd...\n",
       "5571   ham                         Rofl. Its true to its name\n",
       "\n",
       "[5572 rows x 2 columns]"
      ]
     },
     "execution_count": 10,
     "metadata": {},
     "output_type": "execute_result"
    }
   ],
   "source": [
    "df.drop(columns=df[['Unnamed: 2','Unnamed: 3','Unnamed: 4']],axis=1,inplace=True)\n",
    "df"
   ]
  },
  {
   "cell_type": "code",
   "execution_count": 11,
   "id": "6ef66f6e",
   "metadata": {
    "execution": {
     "iopub.execute_input": "2024-01-26T09:51:50.275225Z",
     "iopub.status.busy": "2024-01-26T09:51:50.274808Z",
     "iopub.status.idle": "2024-01-26T09:51:50.292733Z",
     "shell.execute_reply": "2024-01-26T09:51:50.291600Z"
    },
    "papermill": {
     "duration": 0.037259,
     "end_time": "2024-01-26T09:51:50.295253",
     "exception": false,
     "start_time": "2024-01-26T09:51:50.257994",
     "status": "completed"
    },
    "tags": []
   },
   "outputs": [
    {
     "data": {
      "text/html": [
       "<div>\n",
       "<style scoped>\n",
       "    .dataframe tbody tr th:only-of-type {\n",
       "        vertical-align: middle;\n",
       "    }\n",
       "\n",
       "    .dataframe tbody tr th {\n",
       "        vertical-align: top;\n",
       "    }\n",
       "\n",
       "    .dataframe thead th {\n",
       "        text-align: right;\n",
       "    }\n",
       "</style>\n",
       "<table border=\"1\" class=\"dataframe\">\n",
       "  <thead>\n",
       "    <tr style=\"text-align: right;\">\n",
       "      <th></th>\n",
       "      <th>v1</th>\n",
       "      <th>v2</th>\n",
       "    </tr>\n",
       "  </thead>\n",
       "  <tbody>\n",
       "    <tr>\n",
       "      <th>0</th>\n",
       "      <td>ham</td>\n",
       "      <td>Go until jurong point, crazy.. Available only ...</td>\n",
       "    </tr>\n",
       "    <tr>\n",
       "      <th>1</th>\n",
       "      <td>ham</td>\n",
       "      <td>Ok lar... Joking wif u oni...</td>\n",
       "    </tr>\n",
       "    <tr>\n",
       "      <th>2</th>\n",
       "      <td>spam</td>\n",
       "      <td>Free entry in 2 a wkly comp to win FA Cup fina...</td>\n",
       "    </tr>\n",
       "    <tr>\n",
       "      <th>3</th>\n",
       "      <td>ham</td>\n",
       "      <td>U dun say so early hor... U c already then say...</td>\n",
       "    </tr>\n",
       "    <tr>\n",
       "      <th>4</th>\n",
       "      <td>ham</td>\n",
       "      <td>Nah I don't think he goes to usf, he lives aro...</td>\n",
       "    </tr>\n",
       "    <tr>\n",
       "      <th>...</th>\n",
       "      <td>...</td>\n",
       "      <td>...</td>\n",
       "    </tr>\n",
       "    <tr>\n",
       "      <th>5567</th>\n",
       "      <td>spam</td>\n",
       "      <td>This is the 2nd time we have tried 2 contact u...</td>\n",
       "    </tr>\n",
       "    <tr>\n",
       "      <th>5568</th>\n",
       "      <td>ham</td>\n",
       "      <td>Will Ì_ b going to esplanade fr home?</td>\n",
       "    </tr>\n",
       "    <tr>\n",
       "      <th>5569</th>\n",
       "      <td>ham</td>\n",
       "      <td>Pity, * was in mood for that. So...any other s...</td>\n",
       "    </tr>\n",
       "    <tr>\n",
       "      <th>5570</th>\n",
       "      <td>ham</td>\n",
       "      <td>The guy did some bitching but I acted like i'd...</td>\n",
       "    </tr>\n",
       "    <tr>\n",
       "      <th>5571</th>\n",
       "      <td>ham</td>\n",
       "      <td>Rofl. Its true to its name</td>\n",
       "    </tr>\n",
       "  </tbody>\n",
       "</table>\n",
       "<p>5169 rows × 2 columns</p>\n",
       "</div>"
      ],
      "text/plain": [
       "        v1                                                 v2\n",
       "0      ham  Go until jurong point, crazy.. Available only ...\n",
       "1      ham                      Ok lar... Joking wif u oni...\n",
       "2     spam  Free entry in 2 a wkly comp to win FA Cup fina...\n",
       "3      ham  U dun say so early hor... U c already then say...\n",
       "4      ham  Nah I don't think he goes to usf, he lives aro...\n",
       "...    ...                                                ...\n",
       "5567  spam  This is the 2nd time we have tried 2 contact u...\n",
       "5568   ham              Will Ì_ b going to esplanade fr home?\n",
       "5569   ham  Pity, * was in mood for that. So...any other s...\n",
       "5570   ham  The guy did some bitching but I acted like i'd...\n",
       "5571   ham                         Rofl. Its true to its name\n",
       "\n",
       "[5169 rows x 2 columns]"
      ]
     },
     "execution_count": 11,
     "metadata": {},
     "output_type": "execute_result"
    }
   ],
   "source": [
    "df=df.drop_duplicates()\n",
    "df"
   ]
  },
  {
   "cell_type": "code",
   "execution_count": 12,
   "id": "d626d871",
   "metadata": {
    "execution": {
     "iopub.execute_input": "2024-01-26T09:51:50.328103Z",
     "iopub.status.busy": "2024-01-26T09:51:50.327727Z",
     "iopub.status.idle": "2024-01-26T09:51:50.347587Z",
     "shell.execute_reply": "2024-01-26T09:51:50.346517Z"
    },
    "papermill": {
     "duration": 0.039189,
     "end_time": "2024-01-26T09:51:50.350108",
     "exception": false,
     "start_time": "2024-01-26T09:51:50.310919",
     "status": "completed"
    },
    "tags": []
   },
   "outputs": [
    {
     "data": {
      "text/html": [
       "<div>\n",
       "<style scoped>\n",
       "    .dataframe tbody tr th:only-of-type {\n",
       "        vertical-align: middle;\n",
       "    }\n",
       "\n",
       "    .dataframe tbody tr th {\n",
       "        vertical-align: top;\n",
       "    }\n",
       "\n",
       "    .dataframe thead th {\n",
       "        text-align: right;\n",
       "    }\n",
       "</style>\n",
       "<table border=\"1\" class=\"dataframe\">\n",
       "  <thead>\n",
       "    <tr style=\"text-align: right;\">\n",
       "      <th></th>\n",
       "      <th>v1</th>\n",
       "      <th>v2</th>\n",
       "    </tr>\n",
       "  </thead>\n",
       "  <tbody>\n",
       "    <tr>\n",
       "      <th>count</th>\n",
       "      <td>5169</td>\n",
       "      <td>5169</td>\n",
       "    </tr>\n",
       "    <tr>\n",
       "      <th>unique</th>\n",
       "      <td>2</td>\n",
       "      <td>5169</td>\n",
       "    </tr>\n",
       "    <tr>\n",
       "      <th>top</th>\n",
       "      <td>ham</td>\n",
       "      <td>Go until jurong point, crazy.. Available only ...</td>\n",
       "    </tr>\n",
       "    <tr>\n",
       "      <th>freq</th>\n",
       "      <td>4516</td>\n",
       "      <td>1</td>\n",
       "    </tr>\n",
       "  </tbody>\n",
       "</table>\n",
       "</div>"
      ],
      "text/plain": [
       "          v1                                                 v2\n",
       "count   5169                                               5169\n",
       "unique     2                                               5169\n",
       "top      ham  Go until jurong point, crazy.. Available only ...\n",
       "freq    4516                                                  1"
      ]
     },
     "execution_count": 12,
     "metadata": {},
     "output_type": "execute_result"
    }
   ],
   "source": [
    "df.describe()"
   ]
  },
  {
   "cell_type": "code",
   "execution_count": 13,
   "id": "0119b526",
   "metadata": {
    "execution": {
     "iopub.execute_input": "2024-01-26T09:51:50.384282Z",
     "iopub.status.busy": "2024-01-26T09:51:50.383554Z",
     "iopub.status.idle": "2024-01-26T09:51:50.391055Z",
     "shell.execute_reply": "2024-01-26T09:51:50.389885Z"
    },
    "papermill": {
     "duration": 0.027462,
     "end_time": "2024-01-26T09:51:50.393542",
     "exception": false,
     "start_time": "2024-01-26T09:51:50.366080",
     "status": "completed"
    },
    "tags": []
   },
   "outputs": [
    {
     "data": {
      "text/plain": [
       "(5169, 2)"
      ]
     },
     "execution_count": 13,
     "metadata": {},
     "output_type": "execute_result"
    }
   ],
   "source": [
    "df.shape\n"
   ]
  },
  {
   "cell_type": "markdown",
   "id": "0378e235",
   "metadata": {
    "papermill": {
     "duration": 0.015886,
     "end_time": "2024-01-26T09:51:50.425612",
     "exception": false,
     "start_time": "2024-01-26T09:51:50.409726",
     "status": "completed"
    },
    "tags": []
   },
   "source": [
    "# 4.Data Preprocessing"
   ]
  },
  {
   "cell_type": "code",
   "execution_count": 14,
   "id": "8a549fd3",
   "metadata": {
    "execution": {
     "iopub.execute_input": "2024-01-26T09:51:50.459601Z",
     "iopub.status.busy": "2024-01-26T09:51:50.459160Z",
     "iopub.status.idle": "2024-01-26T09:51:50.464499Z",
     "shell.execute_reply": "2024-01-26T09:51:50.463450Z"
    },
    "papermill": {
     "duration": 0.025153,
     "end_time": "2024-01-26T09:51:50.466823",
     "exception": false,
     "start_time": "2024-01-26T09:51:50.441670",
     "status": "completed"
    },
    "tags": []
   },
   "outputs": [],
   "source": [
    "#Rename columns names for easy to understand, we can also use df.rename\n",
    "df.columns=['spam/ham','sms']"
   ]
  },
  {
   "cell_type": "code",
   "execution_count": 15,
   "id": "252e1254",
   "metadata": {
    "execution": {
     "iopub.execute_input": "2024-01-26T09:51:50.501099Z",
     "iopub.status.busy": "2024-01-26T09:51:50.500313Z",
     "iopub.status.idle": "2024-01-26T09:51:50.518003Z",
     "shell.execute_reply": "2024-01-26T09:51:50.516944Z"
    },
    "papermill": {
     "duration": 0.038598,
     "end_time": "2024-01-26T09:51:50.521565",
     "exception": false,
     "start_time": "2024-01-26T09:51:50.482967",
     "status": "completed"
    },
    "tags": []
   },
   "outputs": [
    {
     "name": "stderr",
     "output_type": "stream",
     "text": [
      "/tmp/ipykernel_18/3347313260.py:2: SettingWithCopyWarning: \n",
      "A value is trying to be set on a copy of a slice from a DataFrame\n",
      "\n",
      "See the caveats in the documentation: https://pandas.pydata.org/pandas-docs/stable/user_guide/indexing.html#returning-a-view-versus-a-copy\n",
      "  df.loc[df['spam/ham'] == 'spam', 'spam/ham',] = 0\n",
      "/tmp/ipykernel_18/3347313260.py:3: SettingWithCopyWarning: \n",
      "A value is trying to be set on a copy of a slice from a DataFrame\n",
      "\n",
      "See the caveats in the documentation: https://pandas.pydata.org/pandas-docs/stable/user_guide/indexing.html#returning-a-view-versus-a-copy\n",
      "  df.loc[df['spam/ham'] == 'ham', 'spam/ham',] = 1\n"
     ]
    },
    {
     "data": {
      "text/html": [
       "<div>\n",
       "<style scoped>\n",
       "    .dataframe tbody tr th:only-of-type {\n",
       "        vertical-align: middle;\n",
       "    }\n",
       "\n",
       "    .dataframe tbody tr th {\n",
       "        vertical-align: top;\n",
       "    }\n",
       "\n",
       "    .dataframe thead th {\n",
       "        text-align: right;\n",
       "    }\n",
       "</style>\n",
       "<table border=\"1\" class=\"dataframe\">\n",
       "  <thead>\n",
       "    <tr style=\"text-align: right;\">\n",
       "      <th></th>\n",
       "      <th>spam/ham</th>\n",
       "      <th>sms</th>\n",
       "    </tr>\n",
       "  </thead>\n",
       "  <tbody>\n",
       "    <tr>\n",
       "      <th>0</th>\n",
       "      <td>1</td>\n",
       "      <td>Go until jurong point, crazy.. Available only ...</td>\n",
       "    </tr>\n",
       "    <tr>\n",
       "      <th>1</th>\n",
       "      <td>1</td>\n",
       "      <td>Ok lar... Joking wif u oni...</td>\n",
       "    </tr>\n",
       "    <tr>\n",
       "      <th>2</th>\n",
       "      <td>0</td>\n",
       "      <td>Free entry in 2 a wkly comp to win FA Cup fina...</td>\n",
       "    </tr>\n",
       "    <tr>\n",
       "      <th>3</th>\n",
       "      <td>1</td>\n",
       "      <td>U dun say so early hor... U c already then say...</td>\n",
       "    </tr>\n",
       "    <tr>\n",
       "      <th>4</th>\n",
       "      <td>1</td>\n",
       "      <td>Nah I don't think he goes to usf, he lives aro...</td>\n",
       "    </tr>\n",
       "    <tr>\n",
       "      <th>...</th>\n",
       "      <td>...</td>\n",
       "      <td>...</td>\n",
       "    </tr>\n",
       "    <tr>\n",
       "      <th>5567</th>\n",
       "      <td>0</td>\n",
       "      <td>This is the 2nd time we have tried 2 contact u...</td>\n",
       "    </tr>\n",
       "    <tr>\n",
       "      <th>5568</th>\n",
       "      <td>1</td>\n",
       "      <td>Will Ì_ b going to esplanade fr home?</td>\n",
       "    </tr>\n",
       "    <tr>\n",
       "      <th>5569</th>\n",
       "      <td>1</td>\n",
       "      <td>Pity, * was in mood for that. So...any other s...</td>\n",
       "    </tr>\n",
       "    <tr>\n",
       "      <th>5570</th>\n",
       "      <td>1</td>\n",
       "      <td>The guy did some bitching but I acted like i'd...</td>\n",
       "    </tr>\n",
       "    <tr>\n",
       "      <th>5571</th>\n",
       "      <td>1</td>\n",
       "      <td>Rofl. Its true to its name</td>\n",
       "    </tr>\n",
       "  </tbody>\n",
       "</table>\n",
       "<p>5169 rows × 2 columns</p>\n",
       "</div>"
      ],
      "text/plain": [
       "     spam/ham                                                sms\n",
       "0           1  Go until jurong point, crazy.. Available only ...\n",
       "1           1                      Ok lar... Joking wif u oni...\n",
       "2           0  Free entry in 2 a wkly comp to win FA Cup fina...\n",
       "3           1  U dun say so early hor... U c already then say...\n",
       "4           1  Nah I don't think he goes to usf, he lives aro...\n",
       "...       ...                                                ...\n",
       "5567        0  This is the 2nd time we have tried 2 contact u...\n",
       "5568        1              Will Ì_ b going to esplanade fr home?\n",
       "5569        1  Pity, * was in mood for that. So...any other s...\n",
       "5570        1  The guy did some bitching but I acted like i'd...\n",
       "5571        1                         Rofl. Its true to its name\n",
       "\n",
       "[5169 rows x 2 columns]"
      ]
     },
     "execution_count": 15,
     "metadata": {},
     "output_type": "execute_result"
    }
   ],
   "source": [
    "#Convert the text data into numerical form\n",
    "df.loc[df['spam/ham'] == 'spam', 'spam/ham',] = 0\n",
    "df.loc[df['spam/ham'] == 'ham', 'spam/ham',] = 1\n",
    "df"
   ]
  },
  {
   "cell_type": "code",
   "execution_count": 16,
   "id": "98fe28a3",
   "metadata": {
    "execution": {
     "iopub.execute_input": "2024-01-26T09:51:50.556499Z",
     "iopub.status.busy": "2024-01-26T09:51:50.556092Z",
     "iopub.status.idle": "2024-01-26T09:51:50.817442Z",
     "shell.execute_reply": "2024-01-26T09:51:50.816338Z"
    },
    "papermill": {
     "duration": 0.282125,
     "end_time": "2024-01-26T09:51:50.820135",
     "exception": false,
     "start_time": "2024-01-26T09:51:50.538010",
     "status": "completed"
    },
    "tags": []
   },
   "outputs": [
    {
     "data": {
      "image/png": "[encoded data removed]",
      "text/plain": [
       "<Figure size 500x300 with 1 Axes>"
      ]
     },
     "metadata": {},
     "output_type": "display_data"
    }
   ],
   "source": [
    "fig = plt.figure(figsize=(5, 3))\n",
    "sns.countplot(data=df, x='spam/ham', palette=[\"red\", \"blue\"])\n",
    "plt.title(\"Counts of Labels\")\n",
    "plt.show()"
   ]
  },
  {
   "cell_type": "markdown",
   "id": "c75a2064",
   "metadata": {
    "papermill": {
     "duration": 0.01675,
     "end_time": "2024-01-26T09:51:50.853761",
     "exception": false,
     "start_time": "2024-01-26T09:51:50.837011",
     "status": "completed"
    },
    "tags": []
   },
   "source": [
    "Here the spam sms frequency is shown red color and are less than 1000 in number wehreas the ham sms are shown blue in color and are more than 4000."
   ]
  },
  {
   "cell_type": "code",
   "execution_count": 17,
   "id": "043d2d5c",
   "metadata": {
    "execution": {
     "iopub.execute_input": "2024-01-26T09:51:50.889843Z",
     "iopub.status.busy": "2024-01-26T09:51:50.889428Z",
     "iopub.status.idle": "2024-01-26T09:51:50.893836Z",
     "shell.execute_reply": "2024-01-26T09:51:50.893025Z"
    },
    "papermill": {
     "duration": 0.024894,
     "end_time": "2024-01-26T09:51:50.895935",
     "exception": false,
     "start_time": "2024-01-26T09:51:50.871041",
     "status": "completed"
    },
    "tags": []
   },
   "outputs": [],
   "source": [
    "x=df.sms\n",
    "y =df['spam/ham']"
   ]
  },
  {
   "cell_type": "code",
   "execution_count": 18,
   "id": "f1398f13",
   "metadata": {
    "execution": {
     "iopub.execute_input": "2024-01-26T09:51:50.932002Z",
     "iopub.status.busy": "2024-01-26T09:51:50.931020Z",
     "iopub.status.idle": "2024-01-26T09:51:50.939378Z",
     "shell.execute_reply": "2024-01-26T09:51:50.938590Z"
    },
    "papermill": {
     "duration": 0.028929,
     "end_time": "2024-01-26T09:51:50.941687",
     "exception": false,
     "start_time": "2024-01-26T09:51:50.912758",
     "status": "completed"
    },
    "tags": []
   },
   "outputs": [
    {
     "data": {
      "text/plain": [
       "0       Go until jurong point, crazy.. Available only ...\n",
       "1                           Ok lar... Joking wif u oni...\n",
       "2       Free entry in 2 a wkly comp to win FA Cup fina...\n",
       "3       U dun say so early hor... U c already then say...\n",
       "4       Nah I don't think he goes to usf, he lives aro...\n",
       "                              ...                        \n",
       "5567    This is the 2nd time we have tried 2 contact u...\n",
       "5568                Will Ì_ b going to esplanade fr home?\n",
       "5569    Pity, * was in mood for that. So...any other s...\n",
       "5570    The guy did some bitching but I acted like i'd...\n",
       "5571                           Rofl. Its true to its name\n",
       "Name: sms, Length: 5169, dtype: object"
      ]
     },
     "execution_count": 18,
     "metadata": {},
     "output_type": "execute_result"
    }
   ],
   "source": [
    "x"
   ]
  },
  {
   "cell_type": "code",
   "execution_count": 19,
   "id": "a6698975",
   "metadata": {
    "execution": {
     "iopub.execute_input": "2024-01-26T09:51:50.978321Z",
     "iopub.status.busy": "2024-01-26T09:51:50.977701Z",
     "iopub.status.idle": "2024-01-26T09:51:50.985259Z",
     "shell.execute_reply": "2024-01-26T09:51:50.984281Z"
    },
    "papermill": {
     "duration": 0.028265,
     "end_time": "2024-01-26T09:51:50.987481",
     "exception": false,
     "start_time": "2024-01-26T09:51:50.959216",
     "status": "completed"
    },
    "tags": []
   },
   "outputs": [
    {
     "data": {
      "text/plain": [
       "0       1\n",
       "1       1\n",
       "2       0\n",
       "3       1\n",
       "4       1\n",
       "       ..\n",
       "5567    0\n",
       "5568    1\n",
       "5569    1\n",
       "5570    1\n",
       "5571    1\n",
       "Name: spam/ham, Length: 5169, dtype: object"
      ]
     },
     "execution_count": 19,
     "metadata": {},
     "output_type": "execute_result"
    }
   ],
   "source": [
    "y"
   ]
  },
  {
   "cell_type": "code",
   "execution_count": 20,
   "id": "1f9c6797",
   "metadata": {
    "execution": {
     "iopub.execute_input": "2024-01-26T09:51:51.024036Z",
     "iopub.status.busy": "2024-01-26T09:51:51.023164Z",
     "iopub.status.idle": "2024-01-26T09:51:51.029840Z",
     "shell.execute_reply": "2024-01-26T09:51:51.028903Z"
    },
    "papermill": {
     "duration": 0.027653,
     "end_time": "2024-01-26T09:51:51.032379",
     "exception": false,
     "start_time": "2024-01-26T09:51:51.004726",
     "status": "completed"
    },
    "tags": []
   },
   "outputs": [],
   "source": [
    "xtrain,xtest,ytrain,ytest=train_test_split(x,y,test_size=0.2,random_state=3)"
   ]
  },
  {
   "cell_type": "code",
   "execution_count": 21,
   "id": "815ddec6",
   "metadata": {
    "execution": {
     "iopub.execute_input": "2024-01-26T09:51:51.070131Z",
     "iopub.status.busy": "2024-01-26T09:51:51.069438Z",
     "iopub.status.idle": "2024-01-26T09:51:51.075933Z",
     "shell.execute_reply": "2024-01-26T09:51:51.074588Z"
    },
    "papermill": {
     "duration": 0.028011,
     "end_time": "2024-01-26T09:51:51.078267",
     "exception": false,
     "start_time": "2024-01-26T09:51:51.050256",
     "status": "completed"
    },
    "tags": []
   },
   "outputs": [
    {
     "name": "stdout",
     "output_type": "stream",
     "text": [
      "(5169,)\n",
      "(4135,)\n",
      "(1034,)\n"
     ]
    }
   ],
   "source": [
    "print(x.shape)\n",
    "print(xtrain.shape)\n",
    "print(xtest.shape)"
   ]
  },
  {
   "cell_type": "code",
   "execution_count": 22,
   "id": "40234318",
   "metadata": {
    "execution": {
     "iopub.execute_input": "2024-01-26T09:51:51.114735Z",
     "iopub.status.busy": "2024-01-26T09:51:51.114330Z",
     "iopub.status.idle": "2024-01-26T09:51:51.123146Z",
     "shell.execute_reply": "2024-01-26T09:51:51.122074Z"
    },
    "papermill": {
     "duration": 0.029741,
     "end_time": "2024-01-26T09:51:51.125326",
     "exception": false,
     "start_time": "2024-01-26T09:51:51.095585",
     "status": "completed"
    },
    "tags": []
   },
   "outputs": [
    {
     "data": {
      "text/plain": [
       "(4443                       COME BACK TO TAMPA FFFFUUUUUUU\n",
       " 982     Congrats! 2 mobile 3G Videophones R yours. cal...\n",
       " 3822    Please protect yourself from e-threats. SIB ne...\n",
       " 3924       As if i wasn't having enough trouble sleeping.\n",
       " 4927    Just hopeing that wasnÛ÷t too pissed up to re...\n",
       "                               ...                        \n",
       " 806      sure, but make sure he knows we ain't smokin yet\n",
       " 990                                          26th OF JULY\n",
       " 1723    Hi Jon, Pete here, Ive bin 2 Spain recently & ...\n",
       " 3519    No it will reach by 9 only. She telling she wi...\n",
       " 1745    IåÕm cool ta luv but v.tired 2 cause i have be...\n",
       " Name: sms, Length: 4135, dtype: object,\n",
       " 4994    Just looked it up and addie goes back Monday, ...\n",
       " 4292    You best watch what you say cause I get drunk ...\n",
       " 4128                 Me i'm not workin. Once i get job...\n",
       " 4429          Yar lor... How u noe? U used dat route too?\n",
       " 660     Under the sea, there lays a rock. In the rock,...\n",
       "                               ...                        \n",
       " 4003    Well there's a pattern emerging of my friends ...\n",
       " 1107    From someone not to smoke when every time I've...\n",
       " 5413    Nite nite pocay wocay luv u more than n e thin...\n",
       " 1413    Dear U've been invited to XCHAT. This is our f...\n",
       " 4998                           Hmph. Go head, big baller.\n",
       " Name: sms, Length: 1034, dtype: object)"
      ]
     },
     "execution_count": 22,
     "metadata": {},
     "output_type": "execute_result"
    }
   ],
   "source": [
    "xtrain,xtest"
   ]
  },
  {
   "cell_type": "code",
   "execution_count": 23,
   "id": "746d90b7",
   "metadata": {
    "execution": {
     "iopub.execute_input": "2024-01-26T09:51:51.162403Z",
     "iopub.status.busy": "2024-01-26T09:51:51.161978Z",
     "iopub.status.idle": "2024-01-26T09:51:51.172576Z",
     "shell.execute_reply": "2024-01-26T09:51:51.171426Z"
    },
    "papermill": {
     "duration": 0.032146,
     "end_time": "2024-01-26T09:51:51.175005",
     "exception": false,
     "start_time": "2024-01-26T09:51:51.142859",
     "status": "completed"
    },
    "tags": []
   },
   "outputs": [
    {
     "data": {
      "text/plain": [
       "(4443    1\n",
       " 982     0\n",
       " 3822    1\n",
       " 3924    1\n",
       " 4927    1\n",
       "        ..\n",
       " 806     1\n",
       " 990     1\n",
       " 1723    1\n",
       " 3519    1\n",
       " 1745    1\n",
       " Name: spam/ham, Length: 4135, dtype: object,\n",
       " 4994    1\n",
       " 4292    1\n",
       " 4128    1\n",
       " 4429    1\n",
       " 660     1\n",
       "        ..\n",
       " 4003    1\n",
       " 1107    1\n",
       " 5413    1\n",
       " 1413    0\n",
       " 4998    1\n",
       " Name: spam/ham, Length: 1034, dtype: object)"
      ]
     },
     "execution_count": 23,
     "metadata": {},
     "output_type": "execute_result"
    }
   ],
   "source": [
    "ytrain,ytest"
   ]
  },
  {
   "cell_type": "code",
   "execution_count": 24,
   "id": "9a1e9d28",
   "metadata": {
    "execution": {
     "iopub.execute_input": "2024-01-26T09:51:51.212116Z",
     "iopub.status.busy": "2024-01-26T09:51:51.211665Z",
     "iopub.status.idle": "2024-01-26T09:51:51.222237Z",
     "shell.execute_reply": "2024-01-26T09:51:51.221099Z"
    },
    "papermill": {
     "duration": 0.031943,
     "end_time": "2024-01-26T09:51:51.224654",
     "exception": false,
     "start_time": "2024-01-26T09:51:51.192711",
     "status": "completed"
    },
    "tags": []
   },
   "outputs": [
    {
     "data": {
      "text/html": [
       "<style>#sk-container-id-1 {color: black;background-color: white;}#sk-container-id-1 pre{padding: 0;}#sk-container-id-1 div.sk-toggleable {background-color: white;}#sk-container-id-1 label.sk-toggleable__label {cursor: pointer;display: block;width: 100%;margin-bottom: 0;padding: 0.3em;box-sizing: border-box;text-align: center;}#sk-container-id-1 label.sk-toggleable__label-arrow:before {content: \"▸\";float: left;margin-right: 0.25em;color: #696969;}#sk-container-id-1 label.sk-toggleable__label-arrow:hover:before {color: black;}#sk-container-id-1 div.sk-estimator:hover label.sk-toggleable__label-arrow:before {color: black;}#sk-container-id-1 div.sk-toggleable__content {max-height: 0;max-width: 0;overflow: hidden;text-align: left;background-color: #f0f8ff;}#sk-container-id-1 div.sk-toggleable__content pre {margin: 0.2em;color: black;border-radius: 0.25em;background-color: #f0f8ff;}#sk-container-id-1 input.sk-toggleable__control:checked~div.sk-toggleable__content {max-height: 200px;max-width: 100%;overflow: auto;}#sk-container-id-1 input.sk-toggleable__control:checked~label.sk-toggleable__label-arrow:before {content: \"▾\";}#sk-container-id-1 div.sk-estimator input.sk-toggleable__control:checked~label.sk-toggleable__label {background-color: #d4ebff;}#sk-container-id-1 div.sk-label input.sk-toggleable__control:checked~label.sk-toggleable__label {background-color: #d4ebff;}#sk-container-id-1 input.sk-hidden--visually {border: 0;clip: rect(1px 1px 1px 1px);clip: rect(1px, 1px, 1px, 1px);height: 1px;margin: -1px;overflow: hidden;padding: 0;position: absolute;width: 1px;}#sk-container-id-1 div.sk-estimator {font-family: monospace;background-color: #f0f8ff;border: 1px dotted black;border-radius: 0.25em;box-sizing: border-box;margin-bottom: 0.5em;}#sk-container-id-1 div.sk-estimator:hover {background-color: #d4ebff;}#sk-container-id-1 div.sk-parallel-item::after {content: \"\";width: 100%;border-bottom: 1px solid gray;flex-grow: 1;}#sk-container-id-1 div.sk-label:hover label.sk-toggleable__label {background-color: #d4ebff;}#sk-container-id-1 div.sk-serial::before {content: \"\";position: absolute;border-left: 1px solid gray;box-sizing: border-box;top: 0;bottom: 0;left: 50%;z-index: 0;}#sk-container-id-1 div.sk-serial {display: flex;flex-direction: column;align-items: center;background-color: white;padding-right: 0.2em;padding-left: 0.2em;position: relative;}#sk-container-id-1 div.sk-item {position: relative;z-index: 1;}#sk-container-id-1 div.sk-parallel {display: flex;align-items: stretch;justify-content: center;background-color: white;position: relative;}#sk-container-id-1 div.sk-item::before, #sk-container-id-1 div.sk-parallel-item::before {content: \"\";position: absolute;border-left: 1px solid gray;box-sizing: border-box;top: 0;bottom: 0;left: 50%;z-index: -1;}#sk-container-id-1 div.sk-parallel-item {display: flex;flex-direction: column;z-index: 1;position: relative;background-color: white;}#sk-container-id-1 div.sk-parallel-item:first-child::after {align-self: flex-end;width: 50%;}#sk-container-id-1 div.sk-parallel-item:last-child::after {align-self: flex-start;width: 50%;}#sk-container-id-1 div.sk-parallel-item:only-child::after {width: 0;}#sk-container-id-1 div.sk-dashed-wrapped {border: 1px dashed gray;margin: 0 0.4em 0.5em 0.4em;box-sizing: border-box;padding-bottom: 0.4em;background-color: white;}#sk-container-id-1 div.sk-label label {font-family: monospace;font-weight: bold;display: inline-block;line-height: 1.2em;}#sk-container-id-1 div.sk-label-container {text-align: center;}#sk-container-id-1 div.sk-container {/* jupyter's `normalize.less` sets `[hidden] { display: none; }` but bootstrap.min.css set `[hidden] { display: none !important; }` so we also need the `!important` here to be able to override the default hidden behavior on the sphinx rendered scikit-learn.org. See: https://github.com/scikit-learn/scikit-learn/issues/21755 */display: inline-block !important;position: relative;}#sk-container-id-1 div.sk-text-repr-fallback {display: none;}</style><div id=\"sk-container-id-1\" class=\"sk-top-container\"><div class=\"sk-text-repr-fallback\"><pre>TfidfVectorizer(stop_words=&#x27;english&#x27;)</pre><b>In a Jupyter environment, please rerun this cell to show the HTML representation or trust the notebook. <br />On GitHub, the HTML representation is unable to render, please try loading this page with nbviewer.org.</b></div><div class=\"sk-container\" hidden><div class=\"sk-item\"><div class=\"sk-estimator sk-toggleable\"><input class=\"sk-toggleable__control sk-hidden--visually\" id=\"sk-estimator-id-1\" type=\"checkbox\" checked><label for=\"sk-estimator-id-1\" class=\"sk-toggleable__label sk-toggleable__label-arrow\">TfidfVectorizer</label><div class=\"sk-toggleable__content\"><pre>TfidfVectorizer(stop_words=&#x27;english&#x27;)</pre></div></div></div></div></div>"
      ],
      "text/plain": [
       "TfidfVectorizer(stop_words='english')"
      ]
     },
     "execution_count": 24,
     "metadata": {},
     "output_type": "execute_result"
    }
   ],
   "source": [
    "feat_vect=TfidfVectorizer(min_df=1,stop_words='english',lowercase=True)\n",
    "feat_vect"
   ]
  },
  {
   "cell_type": "code",
   "execution_count": 25,
   "id": "99cf8ddd",
   "metadata": {
    "execution": {
     "iopub.execute_input": "2024-01-26T09:51:51.263258Z",
     "iopub.status.busy": "2024-01-26T09:51:51.262619Z",
     "iopub.status.idle": "2024-01-26T09:51:51.268321Z",
     "shell.execute_reply": "2024-01-26T09:51:51.267596Z"
    },
    "papermill": {
     "duration": 0.028182,
     "end_time": "2024-01-26T09:51:51.270616",
     "exception": false,
     "start_time": "2024-01-26T09:51:51.242434",
     "status": "completed"
    },
    "tags": []
   },
   "outputs": [],
   "source": [
    "ytrain=ytrain.astype('int')\n",
    "ytest=ytest.astype('int')"
   ]
  },
  {
   "cell_type": "code",
   "execution_count": 26,
   "id": "9f13e042",
   "metadata": {
    "execution": {
     "iopub.execute_input": "2024-01-26T09:51:51.308264Z",
     "iopub.status.busy": "2024-01-26T09:51:51.307858Z",
     "iopub.status.idle": "2024-01-26T09:51:51.439705Z",
     "shell.execute_reply": "2024-01-26T09:51:51.438771Z"
    },
    "papermill": {
     "duration": 0.153807,
     "end_time": "2024-01-26T09:51:51.442418",
     "exception": false,
     "start_time": "2024-01-26T09:51:51.288611",
     "status": "completed"
    },
    "tags": []
   },
   "outputs": [],
   "source": [
    "xtrain_vec =feat_vect.fit_transform(xtrain)"
   ]
  },
  {
   "cell_type": "code",
   "execution_count": 27,
   "id": "8663de1b",
   "metadata": {
    "execution": {
     "iopub.execute_input": "2024-01-26T09:51:51.480258Z",
     "iopub.status.busy": "2024-01-26T09:51:51.479835Z",
     "iopub.status.idle": "2024-01-26T09:51:51.509777Z",
     "shell.execute_reply": "2024-01-26T09:51:51.508823Z"
    },
    "papermill": {
     "duration": 0.05171,
     "end_time": "2024-01-26T09:51:51.512158",
     "exception": false,
     "start_time": "2024-01-26T09:51:51.460448",
     "status": "completed"
    },
    "tags": []
   },
   "outputs": [],
   "source": [
    "xtest_vec =feat_vect.transform(xtest)"
   ]
  },
  {
   "cell_type": "code",
   "execution_count": 28,
   "id": "03570079",
   "metadata": {
    "execution": {
     "iopub.execute_input": "2024-01-26T09:51:51.549906Z",
     "iopub.status.busy": "2024-01-26T09:51:51.549481Z",
     "iopub.status.idle": "2024-01-26T09:51:51.556670Z",
     "shell.execute_reply": "2024-01-26T09:51:51.555562Z"
    },
    "papermill": {
     "duration": 0.029972,
     "end_time": "2024-01-26T09:51:51.560033",
     "exception": false,
     "start_time": "2024-01-26T09:51:51.530061",
     "status": "completed"
    },
    "tags": []
   },
   "outputs": [
    {
     "name": "stdout",
     "output_type": "stream",
     "text": [
      "4443                       COME BACK TO TAMPA FFFFUUUUUUU\n",
      "982     Congrats! 2 mobile 3G Videophones R yours. cal...\n",
      "3822    Please protect yourself from e-threats. SIB ne...\n",
      "3924       As if i wasn't having enough trouble sleeping.\n",
      "4927    Just hopeing that wasnÛ÷t too pissed up to re...\n",
      "                              ...                        \n",
      "806      sure, but make sure he knows we ain't smokin yet\n",
      "990                                          26th OF JULY\n",
      "1723    Hi Jon, Pete here, Ive bin 2 Spain recently & ...\n",
      "3519    No it will reach by 9 only. She telling she wi...\n",
      "1745    IåÕm cool ta luv but v.tired 2 cause i have be...\n",
      "Name: sms, Length: 4135, dtype: object\n"
     ]
    }
   ],
   "source": [
    "print(xtrain)"
   ]
  },
  {
   "cell_type": "code",
   "execution_count": 29,
   "id": "56b3cc65",
   "metadata": {
    "execution": {
     "iopub.execute_input": "2024-01-26T09:51:51.598849Z",
     "iopub.status.busy": "2024-01-26T09:51:51.597696Z",
     "iopub.status.idle": "2024-01-26T09:51:51.604437Z",
     "shell.execute_reply": "2024-01-26T09:51:51.603480Z"
    },
    "papermill": {
     "duration": 0.028641,
     "end_time": "2024-01-26T09:51:51.606744",
     "exception": false,
     "start_time": "2024-01-26T09:51:51.578103",
     "status": "completed"
    },
    "tags": []
   },
   "outputs": [
    {
     "data": {
      "text/plain": [
       "<4135x7378 sparse matrix of type '<class 'numpy.float64'>'\n",
       "\twith 31488 stored elements in Compressed Sparse Row format>"
      ]
     },
     "execution_count": 29,
     "metadata": {},
     "output_type": "execute_result"
    }
   ],
   "source": [
    "xtrain_vec"
   ]
  },
  {
   "cell_type": "code",
   "execution_count": 30,
   "id": "f23b770a",
   "metadata": {
    "execution": {
     "iopub.execute_input": "2024-01-26T09:51:51.644808Z",
     "iopub.status.busy": "2024-01-26T09:51:51.644393Z",
     "iopub.status.idle": "2024-01-26T09:51:51.651436Z",
     "shell.execute_reply": "2024-01-26T09:51:51.649685Z"
    },
    "papermill": {
     "duration": 0.02877,
     "end_time": "2024-01-26T09:51:51.653692",
     "exception": false,
     "start_time": "2024-01-26T09:51:51.624922",
     "status": "completed"
    },
    "tags": []
   },
   "outputs": [
    {
     "name": "stdout",
     "output_type": "stream",
     "text": [
      "  (0, 2697)\t0.7205755344386542\n",
      "  (0, 6409)\t0.5950532917415522\n",
      "  (0, 1825)\t0.35592482233751443\n",
      "  (1, 5438)\t0.27399320458839144\n",
      "  (1, 4583)\t0.27399320458839144\n",
      "  (1, 4438)\t0.22516921191243092\n",
      "  (1, 5036)\t0.27399320458839144\n",
      "  (1, 2274)\t0.27399320458839144\n",
      "  (1, 2920)\t0.23390504161994488\n",
      "  (1, 3610)\t0.27399320458839144\n",
      "  (1, 4984)\t0.19732502227978832\n",
      "  (1, 4180)\t0.23390504161994488\n",
      "  (1, 7137)\t0.24133495616477563\n",
      "  (1, 6940)\t0.27399320458839144\n",
      "  (1, 203)\t0.27399320458839144\n",
      "  (1, 6941)\t0.27399320458839144\n",
      "  (1, 453)\t0.25698446420786897\n",
      "  (1, 4333)\t0.15929709793058355\n",
      "  (1, 1885)\t0.22516921191243092\n",
      "  (2, 953)\t0.26160275768603725\n",
      "  (2, 4856)\t0.26160275768603725\n",
      "  (2, 5786)\t0.26160275768603725\n",
      "  (2, 2459)\t0.22436535516409714\n",
      "  (2, 4960)\t0.26160275768603725\n",
      "  (2, 5976)\t0.1902832473629628\n",
      "  :\t:\n",
      "  (4132, 6862)\t0.11085392369947865\n",
      "  (4132, 5612)\t0.14854309693836068\n",
      "  (4132, 3865)\t0.16898098428277844\n",
      "  (4133, 6457)\t0.6154177820886059\n",
      "  (4133, 5320)\t0.5530764956488926\n",
      "  (4133, 2311)\t0.4238274869992768\n",
      "  (4133, 3771)\t0.36842584696755415\n",
      "  (4134, 4632)\t0.2852228597337175\n",
      "  (4134, 3508)\t0.2852228597337175\n",
      "  (4134, 5982)\t0.2623257437582278\n",
      "  (4134, 3585)\t0.2718289055133927\n",
      "  (4134, 6095)\t0.2623257437582278\n",
      "  (4134, 4980)\t0.24893178953790301\n",
      "  (4134, 1608)\t0.22890896872799293\n",
      "  (4134, 5751)\t0.21866344863800888\n",
      "  (4134, 6383)\t0.24893178953790301\n",
      "  (4134, 3967)\t0.23205740285833368\n",
      "  (4134, 2297)\t0.23205740285833368\n",
      "  (4134, 6596)\t0.2355378353175782\n",
      "  (4134, 5998)\t0.2549545188338234\n",
      "  (4134, 7181)\t0.20454345297905668\n",
      "  (4134, 1923)\t0.19363439583175862\n",
      "  (4134, 1571)\t0.18164633700356694\n",
      "  (4134, 4068)\t0.20454345297905668\n",
      "  (4134, 3038)\t0.13885722635220862\n"
     ]
    }
   ],
   "source": [
    "print(xtrain_vec)"
   ]
  },
  {
   "cell_type": "code",
   "execution_count": 31,
   "id": "23112336",
   "metadata": {
    "execution": {
     "iopub.execute_input": "2024-01-26T09:51:51.691789Z",
     "iopub.status.busy": "2024-01-26T09:51:51.691367Z",
     "iopub.status.idle": "2024-01-26T09:51:51.698582Z",
     "shell.execute_reply": "2024-01-26T09:51:51.696569Z"
    },
    "papermill": {
     "duration": 0.029138,
     "end_time": "2024-01-26T09:51:51.700887",
     "exception": false,
     "start_time": "2024-01-26T09:51:51.671749",
     "status": "completed"
    },
    "tags": []
   },
   "outputs": [
    {
     "name": "stdout",
     "output_type": "stream",
     "text": [
      "  (0, 6284)\t0.43430701953285156\n",
      "  (0, 4357)\t0.4264504812056483\n",
      "  (0, 3999)\t0.4541039150126108\n",
      "  (0, 3685)\t0.21875536593912145\n",
      "  (0, 3008)\t0.3755569393427584\n",
      "  (0, 796)\t0.48415917776958733\n",
      "  (1, 7050)\t0.41978523395044104\n",
      "  (1, 5656)\t0.35499712111138654\n",
      "  (1, 2369)\t0.5617364019285492\n",
      "  (1, 1608)\t0.47304204171951914\n",
      "  (1, 1254)\t0.398046282326562\n",
      "  (2, 7221)\t0.7923997102028898\n",
      "  (2, 3640)\t0.6100022125126892\n",
      "  (3, 7292)\t0.4854329061592562\n",
      "  (3, 6879)\t0.504266116821645\n",
      "  (3, 4574)\t0.45819212318042857\n",
      "  (3, 4009)\t0.3321387620897908\n",
      "  (3, 2080)\t0.43567694225913534\n",
      "  (4, 7218)\t0.2292199492753507\n",
      "  (4, 5689)\t0.23694703770184997\n",
      "  (4, 5540)\t0.5218991333605264\n",
      "  (4, 4823)\t0.5112231722851113\n",
      "  (4, 2508)\t0.597985350067042\n",
      "  (5, 3025)\t0.5652583430208418\n",
      "  (5, 1132)\t0.8249139383264974\n",
      "  :\t:\n",
      "  (1031, 5191)\t0.3701308998039874\n",
      "  (1031, 4565)\t0.6439113578053595\n",
      "  (1031, 4068)\t0.3041309124908908\n",
      "  (1031, 510)\t0.42409124971092943\n",
      "  (1032, 7339)\t0.2632164916232764\n",
      "  (1032, 7271)\t0.269584829223756\n",
      "  (1032, 6987)\t0.25783213890193124\n",
      "  (1032, 6919)\t0.17642080640756436\n",
      "  (1032, 6764)\t0.16357649120381332\n",
      "  (1032, 6298)\t0.24905393871920117\n",
      "  (1032, 5563)\t0.2362096235154502\n",
      "  (1032, 4406)\t0.2773790445273517\n",
      "  (1032, 3848)\t0.25783213890193124\n",
      "  (1032, 3538)\t0.24905393871920117\n",
      "  (1032, 2720)\t0.23900544751939748\n",
      "  (1032, 2099)\t0.17318001901981067\n",
      "  (1032, 1899)\t0.18778753530769227\n",
      "  (1032, 1660)\t0.19874332825316712\n",
      "  (1032, 1071)\t0.21945854189397707\n",
      "  (1032, 674)\t0.24537378511987706\n",
      "  (1032, 394)\t0.24905393871920117\n",
      "  (1032, 316)\t0.2016158353905777\n",
      "  (1032, 302)\t0.1936225930341707\n",
      "  (1033, 3198)\t0.7337664084922214\n",
      "  (1033, 1272)\t0.6794018382139002\n"
     ]
    }
   ],
   "source": [
    "print(xtest_vec)"
   ]
  },
  {
   "cell_type": "markdown",
   "id": "83d325b7",
   "metadata": {
    "papermill": {
     "duration": 0.018095,
     "end_time": "2024-01-26T09:51:51.739099",
     "exception": false,
     "start_time": "2024-01-26T09:51:51.721004",
     "status": "completed"
    },
    "tags": []
   },
   "source": [
    "### Using Logistic Regression"
   ]
  },
  {
   "cell_type": "code",
   "execution_count": 32,
   "id": "d638d60e",
   "metadata": {
    "execution": {
     "iopub.execute_input": "2024-01-26T09:51:51.777823Z",
     "iopub.status.busy": "2024-01-26T09:51:51.777153Z",
     "iopub.status.idle": "2024-01-26T09:51:51.871865Z",
     "shell.execute_reply": "2024-01-26T09:51:51.870741Z"
    },
    "papermill": {
     "duration": 0.117317,
     "end_time": "2024-01-26T09:51:51.874729",
     "exception": false,
     "start_time": "2024-01-26T09:51:51.757412",
     "status": "completed"
    },
    "tags": []
   },
   "outputs": [
    {
     "data": {
      "text/html": [
       "<style>#sk-container-id-2 {color: black;background-color: white;}#sk-container-id-2 pre{padding: 0;}#sk-container-id-2 div.sk-toggleable {background-color: white;}#sk-container-id-2 label.sk-toggleable__label {cursor: pointer;display: block;width: 100%;margin-bottom: 0;padding: 0.3em;box-sizing: border-box;text-align: center;}#sk-container-id-2 label.sk-toggleable__label-arrow:before {content: \"▸\";float: left;margin-right: 0.25em;color: #696969;}#sk-container-id-2 label.sk-toggleable__label-arrow:hover:before {color: black;}#sk-container-id-2 div.sk-estimator:hover label.sk-toggleable__label-arrow:before {color: black;}#sk-container-id-2 div.sk-toggleable__content {max-height: 0;max-width: 0;overflow: hidden;text-align: left;background-color: #f0f8ff;}#sk-container-id-2 div.sk-toggleable__content pre {margin: 0.2em;color: black;border-radius: 0.25em;background-color: #f0f8ff;}#sk-container-id-2 input.sk-toggleable__control:checked~div.sk-toggleable__content {max-height: 200px;max-width: 100%;overflow: auto;}#sk-container-id-2 input.sk-toggleable__control:checked~label.sk-toggleable__label-arrow:before {content: \"▾\";}#sk-container-id-2 div.sk-estimator input.sk-toggleable__control:checked~label.sk-toggleable__label {background-color: #d4ebff;}#sk-container-id-2 div.sk-label input.sk-toggleable__control:checked~label.sk-toggleable__label {background-color: #d4ebff;}#sk-container-id-2 input.sk-hidden--visually {border: 0;clip: rect(1px 1px 1px 1px);clip: rect(1px, 1px, 1px, 1px);height: 1px;margin: -1px;overflow: hidden;padding: 0;position: absolute;width: 1px;}#sk-container-id-2 div.sk-estimator {font-family: monospace;background-color: #f0f8ff;border: 1px dotted black;border-radius: 0.25em;box-sizing: border-box;margin-bottom: 0.5em;}#sk-container-id-2 div.sk-estimator:hover {background-color: #d4ebff;}#sk-container-id-2 div.sk-parallel-item::after {content: \"\";width: 100%;border-bottom: 1px solid gray;flex-grow: 1;}#sk-container-id-2 div.sk-label:hover label.sk-toggleable__label {background-color: #d4ebff;}#sk-container-id-2 div.sk-serial::before {content: \"\";position: absolute;border-left: 1px solid gray;box-sizing: border-box;top: 0;bottom: 0;left: 50%;z-index: 0;}#sk-container-id-2 div.sk-serial {display: flex;flex-direction: column;align-items: center;background-color: white;padding-right: 0.2em;padding-left: 0.2em;position: relative;}#sk-container-id-2 div.sk-item {position: relative;z-index: 1;}#sk-container-id-2 div.sk-parallel {display: flex;align-items: stretch;justify-content: center;background-color: white;position: relative;}#sk-container-id-2 div.sk-item::before, #sk-container-id-2 div.sk-parallel-item::before {content: \"\";position: absolute;border-left: 1px solid gray;box-sizing: border-box;top: 0;bottom: 0;left: 50%;z-index: -1;}#sk-container-id-2 div.sk-parallel-item {display: flex;flex-direction: column;z-index: 1;position: relative;background-color: white;}#sk-container-id-2 div.sk-parallel-item:first-child::after {align-self: flex-end;width: 50%;}#sk-container-id-2 div.sk-parallel-item:last-child::after {align-self: flex-start;width: 50%;}#sk-container-id-2 div.sk-parallel-item:only-child::after {width: 0;}#sk-container-id-2 div.sk-dashed-wrapped {border: 1px dashed gray;margin: 0 0.4em 0.5em 0.4em;box-sizing: border-box;padding-bottom: 0.4em;background-color: white;}#sk-container-id-2 div.sk-label label {font-family: monospace;font-weight: bold;display: inline-block;line-height: 1.2em;}#sk-container-id-2 div.sk-label-container {text-align: center;}#sk-container-id-2 div.sk-container {/* jupyter's `normalize.less` sets `[hidden] { display: none; }` but bootstrap.min.css set `[hidden] { display: none !important; }` so we also need the `!important` here to be able to override the default hidden behavior on the sphinx rendered scikit-learn.org. See: https://github.com/scikit-learn/scikit-learn/issues/21755 */display: inline-block !important;position: relative;}#sk-container-id-2 div.sk-text-repr-fallback {display: none;}</style><div id=\"sk-container-id-2\" class=\"sk-top-container\"><div class=\"sk-text-repr-fallback\"><pre>LogisticRegression()</pre><b>In a Jupyter environment, please rerun this cell to show the HTML representation or trust the notebook. <br />On GitHub, the HTML representation is unable to render, please try loading this page with nbviewer.org.</b></div><div class=\"sk-container\" hidden><div class=\"sk-item\"><div class=\"sk-estimator sk-toggleable\"><input class=\"sk-toggleable__control sk-hidden--visually\" id=\"sk-estimator-id-2\" type=\"checkbox\" checked><label for=\"sk-estimator-id-2\" class=\"sk-toggleable__label sk-toggleable__label-arrow\">LogisticRegression</label><div class=\"sk-toggleable__content\"><pre>LogisticRegression()</pre></div></div></div></div></div>"
      ],
      "text/plain": [
       "LogisticRegression()"
      ]
     },
     "execution_count": 32,
     "metadata": {},
     "output_type": "execute_result"
    }
   ],
   "source": [
    "logi=LogisticRegression()\n",
    "logi.fit(xtrain_vec,ytrain)"
   ]
  },
  {
   "cell_type": "code",
   "execution_count": 33,
   "id": "a4239b83",
   "metadata": {
    "execution": {
     "iopub.execute_input": "2024-01-26T09:51:51.916437Z",
     "iopub.status.busy": "2024-01-26T09:51:51.915380Z",
     "iopub.status.idle": "2024-01-26T09:51:51.923726Z",
     "shell.execute_reply": "2024-01-26T09:51:51.922783Z"
    },
    "papermill": {
     "duration": 0.03255,
     "end_time": "2024-01-26T09:51:51.926329",
     "exception": false,
     "start_time": "2024-01-26T09:51:51.893779",
     "status": "completed"
    },
    "tags": []
   },
   "outputs": [
    {
     "data": {
      "text/plain": [
       "0.962273276904474"
      ]
     },
     "execution_count": 33,
     "metadata": {},
     "output_type": "execute_result"
    }
   ],
   "source": [
    "logi.score(xtrain_vec,ytrain)"
   ]
  },
  {
   "cell_type": "code",
   "execution_count": 34,
   "id": "5b5c8361",
   "metadata": {
    "execution": {
     "iopub.execute_input": "2024-01-26T09:51:51.968674Z",
     "iopub.status.busy": "2024-01-26T09:51:51.968242Z",
     "iopub.status.idle": "2024-01-26T09:51:51.978050Z",
     "shell.execute_reply": "2024-01-26T09:51:51.976991Z"
    },
    "papermill": {
     "duration": 0.033741,
     "end_time": "2024-01-26T09:51:51.980368",
     "exception": false,
     "start_time": "2024-01-26T09:51:51.946627",
     "status": "completed"
    },
    "tags": []
   },
   "outputs": [
    {
     "data": {
      "text/plain": [
       "0.960348162475822"
      ]
     },
     "execution_count": 34,
     "metadata": {},
     "output_type": "execute_result"
    }
   ],
   "source": [
    "logi.score(xtest_vec,ytest)"
   ]
  },
  {
   "cell_type": "code",
   "execution_count": 35,
   "id": "c851e286",
   "metadata": {
    "execution": {
     "iopub.execute_input": "2024-01-26T09:51:52.021383Z",
     "iopub.status.busy": "2024-01-26T09:51:52.020223Z",
     "iopub.status.idle": "2024-01-26T09:51:52.028550Z",
     "shell.execute_reply": "2024-01-26T09:51:52.027395Z"
    },
    "papermill": {
     "duration": 0.030769,
     "end_time": "2024-01-26T09:51:52.030851",
     "exception": false,
     "start_time": "2024-01-26T09:51:52.000082",
     "status": "completed"
    },
    "tags": []
   },
   "outputs": [
    {
     "data": {
      "text/plain": [
       "array([1, 1, 1, ..., 1, 0, 1])"
      ]
     },
     "execution_count": 35,
     "metadata": {},
     "output_type": "execute_result"
    }
   ],
   "source": [
    "pred_logi=logi.predict(xtest_vec)\n",
    "pred_logi"
   ]
  },
  {
   "cell_type": "code",
   "execution_count": 36,
   "id": "5db054a9",
   "metadata": {
    "execution": {
     "iopub.execute_input": "2024-01-26T09:51:52.072314Z",
     "iopub.status.busy": "2024-01-26T09:51:52.071498Z",
     "iopub.status.idle": "2024-01-26T09:51:52.081195Z",
     "shell.execute_reply": "2024-01-26T09:51:52.080089Z"
    },
    "papermill": {
     "duration": 0.033583,
     "end_time": "2024-01-26T09:51:52.083519",
     "exception": false,
     "start_time": "2024-01-26T09:51:52.049936",
     "status": "completed"
    },
    "tags": []
   },
   "outputs": [
    {
     "data": {
      "text/plain": [
       "array([[ 99,  41],\n",
       "       [  0, 894]])"
      ]
     },
     "execution_count": 36,
     "metadata": {},
     "output_type": "execute_result"
    }
   ],
   "source": [
    "accuracy_score(ytest,pred_logi)\n",
    "confusion_matrix(ytest,pred_logi)"
   ]
  },
  {
   "cell_type": "code",
   "execution_count": 37,
   "id": "084e5f6a",
   "metadata": {
    "execution": {
     "iopub.execute_input": "2024-01-26T09:51:52.125358Z",
     "iopub.status.busy": "2024-01-26T09:51:52.124482Z",
     "iopub.status.idle": "2024-01-26T09:51:52.141114Z",
     "shell.execute_reply": "2024-01-26T09:51:52.139931Z"
    },
    "papermill": {
     "duration": 0.041242,
     "end_time": "2024-01-26T09:51:52.144237",
     "exception": false,
     "start_time": "2024-01-26T09:51:52.102995",
     "status": "completed"
    },
    "tags": []
   },
   "outputs": [
    {
     "name": "stdout",
     "output_type": "stream",
     "text": [
      "              precision    recall  f1-score   support\n",
      "\n",
      "           0       1.00      0.71      0.83       140\n",
      "           1       0.96      1.00      0.98       894\n",
      "\n",
      "    accuracy                           0.96      1034\n",
      "   macro avg       0.98      0.85      0.90      1034\n",
      "weighted avg       0.96      0.96      0.96      1034\n",
      "\n"
     ]
    }
   ],
   "source": [
    "print(classification_report(ytest,pred_logi))"
   ]
  },
  {
   "cell_type": "markdown",
   "id": "5b46b01d",
   "metadata": {
    "papermill": {
     "duration": 0.019537,
     "end_time": "2024-01-26T09:51:52.184402",
     "exception": false,
     "start_time": "2024-01-26T09:51:52.164865",
     "status": "completed"
    },
    "tags": []
   },
   "source": [
    "Logistic regression is a good machine learning model for classifying a spam or a ham email"
   ]
  }
 ],
 "metadata": {
  "kaggle": {
   "accelerator": "none",
   "dataSources": [
    {
     "datasetId": 483,
     "sourceId": 982,
     "sourceType": "datasetVersion"
    }
   ],
   "dockerImageVersionId": 30635,
   "isGpuEnabled": false,
   "isInternetEnabled": false,
   "language": "python",
   "sourceType": "notebook"
  },
  "kernelspec": {
   "display_name": "Python 3",
   "language": "python",
   "name": "python3"
  },
  "language_info": {
   "codemirror_mode": {
    "name": "ipython",
    "version": 3
   },
   "file_extension": ".py",
   "mimetype": "text/x-python",
   "name": "python",
   "nbconvert_exporter": "python",
   "pygments_lexer": "ipython3",
   "version": "3.10.12"
  },
  "papermill": {
   "default_parameters": {},
   "duration": 9.429134,
   "end_time": "2024-01-26T09:51:52.825962",
   "environment_variables": {},
   "exception": null,
   "input_path": "__notebook__.ipynb",
   "output_path": "__notebook__.ipynb",
   "parameters": {},
   "start_time": "2024-01-26T09:51:43.396828",
   "version": "2.4.0"
  }
 },
 "nbformat": 4,
 "nbformat_minor": 5
}
